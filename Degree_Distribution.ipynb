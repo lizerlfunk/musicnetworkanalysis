{
 "cells": [
  {
   "cell_type": "markdown",
   "id": "32ca39f3",
   "metadata": {},
   "source": [
    "# Degree Distribution"
   ]
  },
  {
   "cell_type": "code",
   "execution_count": 1,
   "id": "c65c0495",
   "metadata": {},
   "outputs": [],
   "source": [
    "import build_influence_network as bn\n",
    "import csv\n",
    "import math\n",
    "import matplotlib\n",
    "import matplotlib.pyplot as plt\n",
    "import networkx as nx\n",
    "import numpy as np\n",
    "import pandas as pd\n",
    "import powerlaw\n",
    "import seaborn as sns\n",
    "import scipy.stats as st\n"
   ]
  },
  {
   "cell_type": "code",
   "execution_count": 2,
   "id": "7c319952",
   "metadata": {},
   "outputs": [],
   "source": [
    "# As a csv.reader is usuable once and only once we write the lines of our csv file to a list \n",
    "with open(\"influence_data.csv\", \"rt\") as infile:\n",
    "    reader = csv.reader(infile)\n",
    "    next(reader)\n",
    "    influence_data = list(reader)\n",
    "    \n",
    "# As a csv.reader is usuable once and only once we write the lines of our csv file to a list \n",
    "with open(\"data_by_artist.csv\", \"rt\") as infile:\n",
    "    reader = csv.reader(infile)\n",
    "    next(reader)\n",
    "    artist_data = list(reader)"
   ]
  },
  {
   "cell_type": "code",
   "execution_count": 3,
   "id": "25af4296",
   "metadata": {},
   "outputs": [
    {
     "name": "stdout",
     "output_type": "stream",
     "text": [
      "+++++++++++++++++++++++++++++++++++++++++++++++++++++++++++++++++++++++++++++++++++++++++++\n",
      "Name: \n",
      "Type: DiGraph\n",
      "Number of nodes: 5603\n",
      "Number of edges: 42770\n",
      "Average in degree:   7.6334\n",
      "Average out degree:   7.6334\n",
      "Our artistic influence network has 5603 artists.\n",
      "Our artistic influence network has 42770 edges out of a possible 31388006 possible edges.\n",
      "Our graph is an acyclic directed graph: False\n",
      "Our network density is: 0.0013626223978675167\n",
      "Our graph is strongly connectayed: False\n",
      "The number of strongly connected components is: 4747\n",
      "Our graph is weakly connected: False\n",
      "The number of weakly connected components is: 3\n",
      "The average clustering coefficient is: 0.09128001728442253\n",
      "+++++++++++++++++++++++++++++++++++++++++++++++++++++++++++++++++++++++++++++++++++++++++++\n"
     ]
    }
   ],
   "source": [
    "graph = bn.build_graph(influence_data, artist_data)"
   ]
  },
  {
   "cell_type": "markdown",
   "id": "214fbb5b",
   "metadata": {},
   "source": [
    "Let's use seaborn's  <a href=\"https://seaborn.pydata.org/generated/seaborn.displot.html#seaborn.displot\" title=”Distplot”>distplot</a> function to plot both the histogram of the degree distribution of our graph, which is represented as light blue bars, and the the kernal dentisty estimate (KDE) which is represented by a solid blue line. "
   ]
  },
  {
   "cell_type": "code",
   "execution_count": 30,
   "id": "9ee7681b",
   "metadata": {
    "scrolled": true
   },
   "outputs": [
    {
     "data": {
      "image/png": "[encoded data removed]",
      "text/plain": [
       "<Figure size 432x288 with 1 Axes>"
      ]
     },
     "metadata": {
      "needs_background": "light"
     },
     "output_type": "display_data"
    }
   ],
   "source": [
    "def plot_degree_dist(graph):\n",
    "    \"\"\"\n",
    "    Plots a histograph of the in degree distribution of the nodes of a directed graph.\n",
    "    Parameters\n",
    "    ----------\n",
    "    graph : a NetworkX directed graph \n",
    "\n",
    "    Notes\n",
    "    -----\n",
    "    \"\"\"\n",
    "    in_degrees = [graph.in_degree(n) for n in graph.nodes()]\n",
    "    out_degrees = [graph.out_degree(n) for n in graph.nodes()]\n",
    "    #in_bin_num = math.sqrt(len(in_degrees))\n",
    "    #out_bin_num = math.sqrt(len(out_degrees))\n",
    "    sns.distplot(in_degrees, label = \"In Degree\", color = \"b\", kde= False)\n",
    "    #sns.distplot(out_degrees, label = \"Out Degree\", color = \"r\", kde= True)\n",
    "    plt.xlim([0,250])\n",
    "    plt.title(\"In-Degree Distribution Histogram\")\n",
    "    plt.ylabel(\"Number of Nodes\")\n",
    "    plt.xlabel(\"Node In-Degree\")\n",
    "    plt.legend(loc='upper right')\n",
    "    plt.show()\n",
    "\n",
    "plot_degree_dist(graph)"
   ]
  },
  {
   "cell_type": "markdown",
   "id": "546a95d5",
   "metadata": {},
   "source": [
    "A function p(x) obeys a power law if \\begin{equation} p(x) \\propto Cx^{-\\alpha} \\end{equation}\n",
    "\n",
    "We care an awful lot about power laws because they are scale invariant. What does this mean?\n",
    "Given some $p(x) = Cx^{\\alpha}$ scaling the argument x by some constant factor S causes a proportionate scaling of the function istelf. \\begin{equation} p(Sx) = C(Sx)^{\\alpha} = SC^{\\alpha}p(x) \\propto p(x) \\end{equation}\n",
    "That is, scaling by a constant S simply multiplies the original function by the constant $C^{\\alpha}$\n",
    "\n",
    "Power laws are often associated with heavy-tailed distributions, which we have. Unfortunately, power laws are also quite difficult to fit.\n",
    "\n",
    "To assist in our analysis we will consult <a href=\"https://journals.plos.org/plosone/article?id=10.1371/journal.pone.0085777\" title=”powerlaw_paper”>Alstott et. al. powerlaw: A Python Package for Analysis of Heavy-Tailed Distributions</a> and the associated python package <a href=\"https://github.com/jeffalstott/powerlaw\" title=”powerlaw_github”>powerlaw</a> based on <a href=\"https://epubs.siam.org/doi/abs/10.1137/070710111?journalCode=siread\" title=”clauset”>Clauset et. al. Power-law distributions in empirical data</a>\n",
    "\n"
   ]
  },
  {
   "cell_type": "code",
   "execution_count": 4,
   "id": "ddd1ccca",
   "metadata": {},
   "outputs": [
    {
     "name": "stderr",
     "output_type": "stream",
     "text": [
      "Values less than or equal to 0 in data. Throwing out 0 or negative values\n",
      "/opt/miniconda3/lib/python3.9/site-packages/powerlaw.py:699: RuntimeWarning: invalid value encountered in true_divide\n",
      "  (CDF_diff**2) /\n",
      "/opt/miniconda3/lib/python3.9/site-packages/powerlaw.py:699: RuntimeWarning: divide by zero encountered in true_divide\n",
      "  (CDF_diff**2) /\n",
      "Assuming nested distributions\n"
     ]
    },
    {
     "name": "stdout",
     "output_type": "stream",
     "text": [
      "Our alpha is: 1.4325712289424275\n",
      "Our standard error, sigma, is: 0.007041362166718456\n",
      "----------------------------------------------------------------------------------------------\n",
      "Power law compared with lognormal: (-707.0064366764268, 7.809735700701705e-123)\n",
      "Power law compared with exponential: (-30.108981375952013, 0.7622725014257433)\n",
      "Power law compared with lognormal positive: (-707.0064366764268, 7.809735700701705e-123)\n",
      "Power law compared with stretched exponential: (-735.0094938775318, 6.978599746088565e-124)\n",
      "Power law compard with truncated power law: (821.366259069607, 0.0)\n",
      "----------------------------------------------------------------------------------------------\n"
     ]
    }
   ],
   "source": [
    "def compare_power_law(graph):\n",
    "    \"\"\" \n",
    "    Compare a power law distribution of node in-degrees to lognormal, exponential, lognormal positive, stretched exponential, and truncated power law       \n",
    "\n",
    "    Parameters\n",
    "    ----------\n",
    "    graph : a NetworkX directed graph\n",
    "        \n",
    "    Notes\n",
    "    -----\n",
    "    See comment by Aaron Clauset in the thread:\n",
    "    https://stackoverflow.com/questions/49266070/comparing-power-law-with-other-distributions\n",
    "\n",
    "    \"\"\"\n",
    "    data = [graph.in_degree(n) for n in graph.nodes()]\n",
    "    fit = powerlaw.Fit(data, xmin = 1, discrete = True)\n",
    "    print(\"Our alpha is: \" + str(fit.power_law.alpha))\n",
    "    print(\"Our standard error, sigma, is: \" + str(fit.power_law.sigma))\n",
    "    print(\"----------------------------------------------------------------------------------------------\")\n",
    "    print(\"Power law compared with lognormal: \" + str(fit.distribution_compare('power_law', 'lognormal')))\n",
    "    print(\"Power law compared with exponential: \" + str(fit.distribution_compare('power_law', 'exponential')))\n",
    "    print(\"Power law compared with lognormal positive: \" + str(fit.distribution_compare('power_law', 'lognormal_positive')))\n",
    "    print(\"Power law compared with stretched exponential: \" + str(fit.distribution_compare('power_law', 'stretched_exponential')))\n",
    "    print(\"Power law compard with truncated power law: \" + str(fit.distribution_compare('power_law', 'truncated_power_law')))\n",
    "    print(\"----------------------------------------------------------------------------------------------\")\n",
    "\n",
    "    \"\"\"\n",
    "    figPDF = powerlaw.plot_pdf(np.array(data), color='b')\n",
    "    powerlaw.plot_pdf(np.array(data), linear_bins=True, color='r', ax=figPDF)\n",
    "    np.seterr(divide='ignore', invalid='ignore')\n",
    "    fit=powerlaw.Fit(np.array(data), discrete=True)\n",
    "    #print(fit.power_law.alpha)\n",
    "    print(fit.distribution_compare('power_law', 'truncated_power_law'))\n",
    "    fit.power_law.plot_pdf( color= 'b',linestyle='--',label='fit ccdf')\n",
    "    # Linear bins?\n",
    "    #fit.plot_pdf(color= 'r', linear_bins=True)\n",
    "    # Logarithmic bins?\n",
    "    fit.plot_pdf(color = 'g')\n",
    "    plt.show()\n",
    "    \"\"\"\n",
    "compare_power_law(graph)"
   ]
  },
  {
   "cell_type": "markdown",
   "id": "bfc8943b",
   "metadata": {},
   "source": [
    "What is this telling us?\n",
    "\n",
    "The Powerlaw package will fit a powerlaw to our emperical data and then compare it to other distributions to see which is, to be crude, the least bad fit. \n",
    "\n",
    "What were seeing is:\n",
    "\n",
    "(1) an R value, which is: \"The loglikelihood ratio of the two sets of likelihoods. If positive, the first set of likelihoods is more likely (and so the probability distribution that produced them is a better fit to the data). If negative, the reverse is true.\"\n",
    "\n",
    "(2) a p-value, which is: The significance of the sign of R. The p-values referred to here come from section 4.1 of arxiv.org/abs/0706.1062, where large values represent good fits and small values represent bad fits. See in particular footnote 8 on the bottom of page 17. To quote Aaron Clauset's comment (which is linked in plot_power_law's comments) regarding the output:\n",
    "\"The thing that is being tested for the p-value here is whether the sign of R is meaningful. If p < 0.05 for a LRT, then a positive sign indicated the power-law model is favored.\"\n",
    "\n",
    "What we see here is that both the lognormal and the stretched exponential (also known as the Weibull distribution) both provide a better fit for our emperical data than a powerlaw. Again, this is not too terrribly surprising as scale-free networks have proven to be rare in <a href= https://www.ncbi.nlm.nih.gov/pmc/articles/PMC6399239/ title=\"clauset\">Broido et. al.</a>"
   ]
  },
  {
   "cell_type": "code",
   "execution_count": 6,
   "id": "f8c2f58a",
   "metadata": {},
   "outputs": [
    {
     "name": "stderr",
     "output_type": "stream",
     "text": [
      "Values less than or equal to 0 in data. Throwing out 0 or negative values\n",
      "Calculating best minimal value for power law fit\n",
      "/opt/miniconda3/lib/python3.9/site-packages/powerlaw.py:699: RuntimeWarning: invalid value encountered in true_divide\n",
      "  (CDF_diff**2) /\n",
      "Values less than or equal to 0 in data. Throwing out 0 or negative values\n",
      "Calculating best minimal value for power law fit\n",
      "/opt/miniconda3/lib/python3.9/site-packages/powerlaw.py:699: RuntimeWarning: invalid value encountered in true_divide\n",
      "  (CDF_diff**2) /\n"
     ]
    },
    {
     "data": {
      "image/png": "[encoded data removed]",
      "text/plain": [
       "<Figure size 432x288 with 1 Axes>"
      ]
     },
     "metadata": {
      "needs_background": "light"
     },
     "output_type": "display_data"
    }
   ],
   "source": [
    "def plot_power_law(graph):\n",
    "    in_degrees = [val for (node, val) in graph.in_degree()]\n",
    "    fit1 = powerlaw.Fit(in_degrees, discrete=False)\n",
    "    fit2 = powerlaw.Fit(in_degrees, discrete=False)\n",
    "    ####\n",
    "    fit1.distribution_compare('power_law', \"lognormal\")\n",
    "    fit1.distribution_compare('power_law', \"stretched_exponential\")\n",
    "    fig = fit1.plot_ccdf(linewidth=3, label='Empirical Data')\n",
    "    fit1.power_law.plot_ccdf(ax=fig, color='r', linestyle='--', label=\"Power law fit\")\n",
    "    fit1.lognormal.plot_ccdf(ax=fig, color='g', linestyle='--', label= \"LogNormal fit\")\n",
    "    fit2.stretched_exponential.plot_ccdf(ax=fig, color='k', linestyle='--', label=\"Stretched Exponential fit\")\n",
    "\n",
    "\n",
    "    ####\n",
    "    fig.set_ylabel(u\"p(X≥x)\")\n",
    "    fig.set_xlabel(\"Nodes\")\n",
    "    handles, labels = fig.get_legend_handles_labels()\n",
    "    fig.legend(handles, labels, loc=3)\n",
    "\n",
    "    figname = \"PowerLaw Compare\"\n",
    "    plt.savefig(\"PowerLaw_Compare.png\")\n",
    "    #savefig(figname+'.eps', bbox_inches='tight')\n",
    "    #savefig(figname+'.tiff', bbox_inches='tight', dpi=300)\n",
    "plot_power_law(graph)"
   ]
  },
  {
   "cell_type": "markdown",
   "id": "733e0e35",
   "metadata": {},
   "source": [
    "What is the above graph telling us. It's a fit of the Power law, LogNormal, and Stretched Exponentials to our emperical data but it doesn't quite look like the degree distribution histogram above. \n",
    "\n",
    "To quote Coscia's The Atlas for the Aspiring Network Scientist Section 6.2 p.100\n",
    "The most common way to visualize degrees is by drawing cumula- tive distributions (CDF), or – to be more aligned with the convention you’ll see everywhere – the complement of a cumulative distribution (CCDF). We can transform a degree histogram into a CCDF by chang- ing the meaning of the y-axis. Rather than being the probability of finding a node of degree equal to k, in a CCDF this is the probability of finding a node of degree k or higher. This is not a scattergram any more, but a function, which helps us when we need to fit it. "
   ]
  },
  {
   "cell_type": "code",
   "execution_count": 51,
   "id": "1c04cd04",
   "metadata": {},
   "outputs": [
    {
     "name": "stdout",
     "output_type": "stream",
     "text": [
      "The decade that we have selected is: 1930\n",
      "Our graph is an acyclic directed graph: False\n",
      "Our artistic influence network has 155 artists.\n",
      "Our artistic influence network has 129 edges out of a possible 23870 possible edges.\n",
      "Our network density is: 0.0054042731462086305\n",
      "Name: \n",
      "Type: DiGraph\n",
      "Number of nodes: 155\n",
      "Number of edges: 129\n",
      "Average in degree:   0.8323\n",
      "Average out degree:   0.8323\n",
      "None\n"
     ]
    }
   ],
   "source": [
    "graph_1930 = bn.build_decade_graph(graph, 1930)\n",
    "print(print(nx.info(graph_1930)))"
   ]
  },
  {
   "cell_type": "code",
   "execution_count": 78,
   "id": "cb1d2536",
   "metadata": {},
   "outputs": [
    {
     "name": "stdout",
     "output_type": "stream",
     "text": [
      "Our alpha is: 7.180603939735204\n",
      "Our standard error, sigma, is: 2.523220992431114\n",
      "----------------------------------------------------------------------------------------------\n",
      "Power law compared with lognormal: (-0.17681722737596195, 0.33687280889629456)\n",
      "Power law compared with exponential: (1.2259936396366784, 0.02931374063552603)\n",
      "Power law compared with lognormal positive: (0.5373468828548369, 0.07024334608967621)\n",
      "Power law compared with stretched exponential: (0.20307953653615796, 0.012345905629201058)\n",
      "Power law compard with truncated power law: (7.026217385686095e-10, 0.9999700900387477)\n",
      "----------------------------------------------------------------------------------------------\n"
     ]
    },
    {
     "name": "stderr",
     "output_type": "stream",
     "text": [
      "Values less than or equal to 0 in data. Throwing out 0 or negative values\n",
      "Calculating best minimal value for power law fit\n",
      "'nan' in fit cumulative distribution values.\n",
      "Likely underflow or overflow error: the optimal fit for this distribution gives values that are so extreme that we lack the numerical precision to calculate them.\n",
      "Assuming nested distributions\n"
     ]
    }
   ],
   "source": [
    "plot_power_law(graph_1930)"
   ]
  },
  {
   "cell_type": "code",
   "execution_count": 60,
   "id": "768f9c7d",
   "metadata": {},
   "outputs": [
    {
     "name": "stdout",
     "output_type": "stream",
     "text": [
      "The decade that we have selected is: 1940\n",
      "Our graph is an acyclic directed graph: False\n",
      "Our artistic influence network has 400 artists.\n",
      "Our artistic influence network has 826 edges out of a possible 159600 possible edges.\n",
      "Our network density is: 0.005175438596491228\n",
      "Name: \n",
      "Type: DiGraph\n",
      "Number of nodes: 400\n",
      "Number of edges: 826\n",
      "Average in degree:   2.0650\n",
      "Average out degree:   2.0650\n",
      "None\n"
     ]
    }
   ],
   "source": [
    "graph_1940 = bn.build_decade_graph(graph, 1940)\n",
    "print(print(nx.info(graph_1940)))"
   ]
  },
  {
   "cell_type": "code",
   "execution_count": 79,
   "id": "51e5da98",
   "metadata": {},
   "outputs": [
    {
     "name": "stdout",
     "output_type": "stream",
     "text": [
      "Our alpha is: 2.7792885123718785\n",
      "Our standard error, sigma, is: 0.20969116213091327\n",
      "----------------------------------------------------------------------------------------------\n",
      "Power law compared with lognormal: (-0.08362020891021693, 0.7905915145412576)\n",
      "Power law compared with exponential: (5.855794286903986, 0.13368674854597842)\n",
      "Power law compared with lognormal positive: (0.4982692992056723, 0.6885320751011426)\n",
      "Power law compared with stretched exponential: (-0.10244471432654789, 0.8648012787191872)\n",
      "Power law compard with truncated power law: (-0.4743129833853206, 0.3300692924021311)\n",
      "----------------------------------------------------------------------------------------------\n"
     ]
    },
    {
     "name": "stderr",
     "output_type": "stream",
     "text": [
      "Values less than or equal to 0 in data. Throwing out 0 or negative values\n",
      "Calculating best minimal value for power law fit\n",
      "Assuming nested distributions\n"
     ]
    }
   ],
   "source": [
    "plot_power_law(graph_1940)"
   ]
  },
  {
   "cell_type": "code",
   "execution_count": 96,
   "id": "d53630ac",
   "metadata": {},
   "outputs": [
    {
     "name": "stdout",
     "output_type": "stream",
     "text": [
      "The decade that we have selected is: 1950\n",
      "Our graph is an acyclic directed graph: False\n",
      "Our artistic influence network has 940 artists.\n",
      "Our artistic influence network has 3506 edges out of a possible 882660 possible edges.\n",
      "Our network density is: 0.003972084381301973\n",
      "Name: \n",
      "Type: DiGraph\n",
      "Number of nodes: 940\n",
      "Number of edges: 3506\n",
      "Average in degree:   3.7298\n",
      "Average out degree:   3.7298\n",
      "None\n"
     ]
    }
   ],
   "source": [
    "graph_1950 = bn.build_decade_graph(graph, 1950)\n",
    "print(print(nx.info(graph_1950)))"
   ]
  },
  {
   "cell_type": "code",
   "execution_count": 80,
   "id": "dc2eee6b",
   "metadata": {},
   "outputs": [
    {
     "name": "stderr",
     "output_type": "stream",
     "text": [
      "Values less than or equal to 0 in data. Throwing out 0 or negative values\n",
      "Calculating best minimal value for power law fit\n",
      "Assuming nested distributions\n"
     ]
    },
    {
     "name": "stdout",
     "output_type": "stream",
     "text": [
      "Our alpha is: 2.526183394781592\n",
      "Our standard error, sigma, is: 0.1010739644601796\n",
      "----------------------------------------------------------------------------------------------\n",
      "Power law compared with lognormal: (-0.3594296561205903, 0.5785805523857904)\n",
      "Power law compared with exponential: (27.118035079642283, 0.0012382955121685612)\n",
      "Power law compared with lognormal positive: (1.2289714123779918, 0.571334072367099)\n",
      "Power law compared with stretched exponential: (-0.43778868741344157, 0.7045432580159642)\n",
      "Power law compard with truncated power law: (-1.7111798850989928, 0.06431901234845305)\n",
      "----------------------------------------------------------------------------------------------\n"
     ]
    }
   ],
   "source": [
    "plot_power_law(graph_1950)"
   ]
  },
  {
   "cell_type": "code",
   "execution_count": 58,
   "id": "5086f502",
   "metadata": {},
   "outputs": [
    {
     "name": "stdout",
     "output_type": "stream",
     "text": [
      "The decade that we have selected is: 1960\n",
      "Our graph is an acyclic directed graph: False\n",
      "Our artistic influence network has 1795 artists.\n",
      "Our artistic influence network has 10149 edges out of a possible 3220230 possible edges.\n",
      "Our network density is: 0.003151638237020337\n",
      "Name: \n",
      "Type: DiGraph\n",
      "Number of nodes: 1795\n",
      "Number of edges: 10149\n",
      "Average in degree:   5.6540\n",
      "Average out degree:   5.6540\n",
      "None\n"
     ]
    }
   ],
   "source": [
    "graph_1960 = bn.build_decade_graph(graph, 1960)\n",
    "print(print(nx.info(graph_1960)))"
   ]
  },
  {
   "cell_type": "code",
   "execution_count": 81,
   "id": "e8a708a3",
   "metadata": {},
   "outputs": [
    {
     "name": "stdout",
     "output_type": "stream",
     "text": [
      "Our alpha is: 2.581415412245523\n",
      "Our standard error, sigma, is: 0.10272396969421028\n",
      "----------------------------------------------------------------------------------------------\n",
      "Power law compared with lognormal: (-0.3025788097933457, 0.6065795319383078)\n",
      "Power law compared with exponential: (33.10583217719169, 0.002348985102975273)\n",
      "Power law compared with lognormal positive: (0.5432686370350783, 0.746101394516328)\n",
      "Power law compared with stretched exponential: (-0.2481808733414148, 0.8269215271786274)\n",
      "Power law compard with truncated power law: (-1.071653882273901, 0.14319285052581399)\n",
      "----------------------------------------------------------------------------------------------\n"
     ]
    },
    {
     "name": "stderr",
     "output_type": "stream",
     "text": [
      "Values less than or equal to 0 in data. Throwing out 0 or negative values\n",
      "Calculating best minimal value for power law fit\n",
      "Assuming nested distributions\n"
     ]
    }
   ],
   "source": [
    "plot_power_law(graph_1960)"
   ]
  },
  {
   "cell_type": "code",
   "execution_count": 57,
   "id": "8d27c4cf",
   "metadata": {},
   "outputs": [
    {
     "name": "stdout",
     "output_type": "stream",
     "text": [
      "The decade that we have selected is: 1970\n",
      "Our graph is an acyclic directed graph: False\n",
      "Our artistic influence network has 2591 artists.\n",
      "Our artistic influence network has 16962 edges out of a possible 6710690 possible edges.\n",
      "Our network density is: 0.0025276089344016786\n",
      "Name: \n",
      "Type: DiGraph\n",
      "Number of nodes: 2591\n",
      "Number of edges: 16962\n",
      "Average in degree:   6.5465\n",
      "Average out degree:   6.5465\n",
      "None\n"
     ]
    }
   ],
   "source": [
    "graph_1970 = bn.build_decade_graph(graph, 1970)\n",
    "print(print(nx.info(graph_1970)))"
   ]
  },
  {
   "cell_type": "code",
   "execution_count": 82,
   "id": "be63dc1e",
   "metadata": {},
   "outputs": [
    {
     "name": "stderr",
     "output_type": "stream",
     "text": [
      "Values less than or equal to 0 in data. Throwing out 0 or negative values\n",
      "Calculating best minimal value for power law fit\n",
      "Assuming nested distributions\n"
     ]
    },
    {
     "name": "stdout",
     "output_type": "stream",
     "text": [
      "Our alpha is: 2.587356625015625\n",
      "Our standard error, sigma, is: 0.08764710726274669\n",
      "----------------------------------------------------------------------------------------------\n",
      "Power law compared with lognormal: (-0.38744862789272494, 0.5741571840347909)\n",
      "Power law compared with exponential: (51.50200437384988, 0.0010971595524228142)\n",
      "Power law compared with lognormal positive: (0.7023235004310182, 0.7231893347025977)\n",
      "Power law compared with stretched exponential: (-0.26087688772876927, 0.8456746483105798)\n",
      "Power law compard with truncated power law: (-1.080508953967799, 0.14155089263938958)\n",
      "----------------------------------------------------------------------------------------------\n"
     ]
    }
   ],
   "source": [
    "plot_power_law(graph_1970)"
   ]
  },
  {
   "cell_type": "code",
   "execution_count": 56,
   "id": "49a5551a",
   "metadata": {},
   "outputs": [
    {
     "name": "stdout",
     "output_type": "stream",
     "text": [
      "The decade that we have selected is: 1980\n",
      "Our graph is an acyclic directed graph: False\n",
      "Our artistic influence network has 3542 artists.\n",
      "Our artistic influence network has 25448 edges out of a possible 12542222 possible edges.\n",
      "Our network density is: 0.0020289865703222282\n",
      "Name: \n",
      "Type: DiGraph\n",
      "Number of nodes: 3542\n",
      "Number of edges: 25448\n",
      "Average in degree:   7.1846\n",
      "Average out degree:   7.1846\n",
      "None\n"
     ]
    }
   ],
   "source": [
    "graph_1980 = bn.build_decade_graph(graph, 1980)\n",
    "print(print(nx.info(graph_1980)))"
   ]
  },
  {
   "cell_type": "code",
   "execution_count": 83,
   "id": "bb1941dc",
   "metadata": {},
   "outputs": [
    {
     "name": "stderr",
     "output_type": "stream",
     "text": [
      "Values less than or equal to 0 in data. Throwing out 0 or negative values\n",
      "Calculating best minimal value for power law fit\n",
      "Assuming nested distributions\n"
     ]
    },
    {
     "name": "stdout",
     "output_type": "stream",
     "text": [
      "Our alpha is: 2.6004999554056734\n",
      "Our standard error, sigma, is: 0.08156903071685465\n",
      "----------------------------------------------------------------------------------------------\n",
      "Power law compared with lognormal: (-0.7230606488740001, 0.44860401430375596)\n",
      "Power law compared with exponential: (56.90012311228466, 0.0010715423250722378)\n",
      "Power law compared with lognormal positive: (-0.013578480935005466, 0.9945988322606623)\n",
      "Power law compared with stretched exponential: (-0.6496487343005617, 0.6783927942551121)\n",
      "Power law compard with truncated power law: (-1.4039156527595287, 0.09380510904632078)\n",
      "----------------------------------------------------------------------------------------------\n"
     ]
    }
   ],
   "source": [
    "plot_power_law(graph_1980)"
   ]
  },
  {
   "cell_type": "code",
   "execution_count": 55,
   "id": "47f8c1ae",
   "metadata": {},
   "outputs": [
    {
     "name": "stdout",
     "output_type": "stream",
     "text": [
      "The decade that we have selected is: 1990\n",
      "Our graph is an acyclic directed graph: False\n",
      "Our artistic influence network has 4671 artists.\n",
      "Our artistic influence network has 36446 edges out of a possible 21813570 possible edges.\n",
      "Our network density is: 0.0016707948309240533\n",
      "Name: \n",
      "Type: DiGraph\n",
      "Number of nodes: 4671\n",
      "Number of edges: 36446\n",
      "Average in degree:   7.8026\n",
      "Average out degree:   7.8026\n",
      "None\n"
     ]
    }
   ],
   "source": [
    "graph_1990 = bn.build_decade_graph(graph, 1990)\n",
    "print(print(nx.info(graph_1990)))"
   ]
  },
  {
   "cell_type": "code",
   "execution_count": 84,
   "id": "53264a06",
   "metadata": {},
   "outputs": [
    {
     "name": "stderr",
     "output_type": "stream",
     "text": [
      "Values less than or equal to 0 in data. Throwing out 0 or negative values\n",
      "Calculating best minimal value for power law fit\n",
      "Assuming nested distributions\n"
     ]
    },
    {
     "name": "stdout",
     "output_type": "stream",
     "text": [
      "Our alpha is: 2.7144590978148617\n",
      "Our standard error, sigma, is: 0.09737473339364967\n",
      "----------------------------------------------------------------------------------------------\n",
      "Power law compared with lognormal: (-1.213228615271328, 0.34552160636819484)\n",
      "Power law compared with exponential: (32.39500752556689, 0.017999702373724034)\n",
      "Power law compared with lognormal positive: (-1.1800702652148924, 0.43704417850209254)\n",
      "Power law compared with stretched exponential: (-1.3021300144686334, 0.3625137803444838)\n",
      "Power law compard with truncated power law: (-1.6003795486135939, 0.0736040994778917)\n",
      "----------------------------------------------------------------------------------------------\n"
     ]
    }
   ],
   "source": [
    "plot_power_law(graph_1990)"
   ]
  },
  {
   "cell_type": "code",
   "execution_count": 54,
   "id": "d249ef13",
   "metadata": {},
   "outputs": [
    {
     "name": "stdout",
     "output_type": "stream",
     "text": [
      "The decade that we have selected is: 2000\n",
      "Our graph is an acyclic directed graph: False\n",
      "Our artistic influence network has 5399 artists.\n",
      "Our artistic influence network has 41956 edges out of a possible 29143802 possible edges.\n",
      "Our network density is: 0.0014396199919283008\n",
      "Name: \n",
      "Type: DiGraph\n",
      "Number of nodes: 5399\n",
      "Number of edges: 41956\n",
      "Average in degree:   7.7711\n",
      "Average out degree:   7.7711\n",
      "None\n"
     ]
    }
   ],
   "source": [
    "graph_2000 = bn.build_decade_graph(graph, 2000)\n",
    "print(print(nx.info(graph_2000)))"
   ]
  },
  {
   "cell_type": "code",
   "execution_count": 85,
   "id": "02d696cd",
   "metadata": {},
   "outputs": [
    {
     "name": "stderr",
     "output_type": "stream",
     "text": [
      "Values less than or equal to 0 in data. Throwing out 0 or negative values\n",
      "Calculating best minimal value for power law fit\n",
      "Assuming nested distributions\n"
     ]
    },
    {
     "name": "stdout",
     "output_type": "stream",
     "text": [
      "Our alpha is: 2.733004268858697\n",
      "Our standard error, sigma, is: 0.09223851020338286\n",
      "----------------------------------------------------------------------------------------------\n",
      "Power law compared with lognormal: (-1.1729238301455647, 0.35116680703505676)\n",
      "Power law compared with exponential: (37.42764519879382, 0.010633441405529864)\n",
      "Power law compared with lognormal positive: (-1.0964420537242674, 0.49560904967790087)\n",
      "Power law compared with stretched exponential: (-1.2597042433958663, 0.40801122413396584)\n",
      "Power law compard with truncated power law: (-1.665627843001353, 0.06797495968192735)\n",
      "----------------------------------------------------------------------------------------------\n"
     ]
    }
   ],
   "source": [
    "plot_power_law(graph_2000)"
   ]
  },
  {
   "cell_type": "code",
   "execution_count": 53,
   "id": "fda33151",
   "metadata": {},
   "outputs": [
    {
     "name": "stdout",
     "output_type": "stream",
     "text": [
      "The decade that we have selected is: 2010\n",
      "Our graph is an acyclic directed graph: False\n",
      "Our artistic influence network has 5603 artists.\n",
      "Our artistic influence network has 42770 edges out of a possible 31388006 possible edges.\n",
      "Our network density is: 0.0013626223978675167\n",
      "Name: \n",
      "Type: DiGraph\n",
      "Number of nodes: 5603\n",
      "Number of edges: 42770\n",
      "Average in degree:   7.6334\n",
      "Average out degree:   7.6334\n",
      "None\n"
     ]
    }
   ],
   "source": [
    "graph_2010 = bn.build_decade_graph(graph, 2010)\n",
    "print(print(nx.info(graph_2010)))"
   ]
  },
  {
   "cell_type": "code",
   "execution_count": 86,
   "id": "268b5f50",
   "metadata": {},
   "outputs": [
    {
     "name": "stderr",
     "output_type": "stream",
     "text": [
      "Values less than or equal to 0 in data. Throwing out 0 or negative values\n",
      "Calculating best minimal value for power law fit\n",
      "Assuming nested distributions\n"
     ]
    },
    {
     "name": "stdout",
     "output_type": "stream",
     "text": [
      "Our alpha is: 2.7153506422325275\n",
      "Our standard error, sigma, is: 0.08788007555347738\n",
      "----------------------------------------------------------------------------------------------\n",
      "Power law compared with lognormal: (-1.3800224715833833, 0.3139509935226249)\n",
      "Power law compared with exponential: (40.66105530901663, 0.008631217956483306)\n",
      "Power law compared with lognormal positive: (-1.315819712033119, 0.43806014779742586)\n",
      "Power law compared with stretched exponential: (-1.476805738925889, 0.36557860921379937)\n",
      "Power law compard with truncated power law: (-1.8816193169266402, 0.052391009976793246)\n",
      "----------------------------------------------------------------------------------------------\n"
     ]
    }
   ],
   "source": [
    "plot_power_law(graph_2010)"
   ]
  }
 ],
 "metadata": {
  "kernelspec": {
   "display_name": "Python 3",
   "language": "python",
   "name": "python3"
  },
  "language_info": {
   "codemirror_mode": {
    "name": "ipython",
    "version": 3
   },
   "file_extension": ".py",
   "mimetype": "text/x-python",
   "name": "python",
   "nbconvert_exporter": "python",
   "pygments_lexer": "ipython3",
   "version": "3.9.1"
  }
 },
 "nbformat": 4,
 "nbformat_minor": 5
}
