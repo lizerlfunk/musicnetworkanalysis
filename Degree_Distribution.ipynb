{
 "cells": [
  {
   "cell_type": "code",
   "execution_count": null,
   "id": "43f51b5f",
   "metadata": {},
   "outputs": [],
   "source": []
  },
  {
   "cell_type": "code",
   "execution_count": 2,
   "id": "31cbc6d0",
   "metadata": {},
   "outputs": [],
   "source": [
    "import build_influence_network as bn\n",
    "import csv\n",
    "import matplotlib.pyplot as plt\n",
    "import networkx as nx\n",
    "import powerlaw"
   ]
  },
  {
   "cell_type": "code",
   "execution_count": 5,
   "id": "46ef1aa0",
   "metadata": {},
   "outputs": [],
   "source": [
    "# As a csv.reader is usuable once and only once we write the lines of our csv file to a list \n",
    "with open(\"influence_data.csv\", \"rt\") as infile:\n",
    "    reader = csv.reader(infile)\n",
    "    next(reader)\n",
    "    influence_data = list(reader)\n",
    "    \n",
    "# As a csv.reader is usuable once and only once we write the lines of our csv file to a list \n",
    "with open(\"data_by_artist.csv\", \"rt\") as infile:\n",
    "    reader = csv.reader(infile)\n",
    "    next(reader)\n",
    "    artist_data = list(reader)"
   ]
  },
  {
   "cell_type": "code",
   "execution_count": 6,
   "id": "6d0cdd61",
   "metadata": {},
   "outputs": [
    {
     "name": "stdout",
     "output_type": "stream",
     "text": [
      "Our graph is an acyclic directed graph: False\n",
      "Our artistic influence network has 5603 artists.\n",
      "Our artistic influence network has 42770 edges out of a possible 31388006 possible edges.\n",
      "Our network density is: 0.0013626223978675167\n",
      "Our graph is strongly connected False\n",
      "The number of strongly connected components is 4747\n",
      "The average clustering coefficient is 0.09128001728442253\n"
     ]
    }
   ],
   "source": [
    "graph = bn.build_graph(influence_data, artist_data)"
   ]
  },
  {
   "cell_type": "code",
   "execution_count": 11,
   "id": "12ce3ed0",
   "metadata": {},
   "outputs": [
    {
     "data": {
      "image/png": "[encoded data removed]",
      "text/plain": [
       "<Figure size 432x288 with 1 Axes>"
      ]
     },
     "metadata": {
      "needs_background": "light"
     },
     "output_type": "display_data"
    }
   ],
   "source": [
    "def plot_degree_dist(graph):\n",
    "    \"\"\"\n",
    "    Plots a histograph of the in degree distribution of the nodes of a directed graph.\n",
    "    Parameters\n",
    "    ----------\n",
    "    graph : a NetworkX directed graph \n",
    "\n",
    "    Notes\n",
    "    -----\n",
    "    \"\"\"\n",
    "    degrees = [graph.in_degree(n) for n in graph.nodes()]\n",
    "    plt.hist(degrees,100)\n",
    "    plt.title(\"Degree Histogram\")\n",
    "    plt.ylabel(\"Count\")\n",
    "    plt.xlabel(\"Degree\")\n",
    "    plt.xticks(rotation = 90)\n",
    "    # We're doing a bit of truncating and only viewing nodes of in degree < 150\n",
    "    plt.xlim([0,150])\n",
    "    plt.show()\n",
    "\n",
    "plot_degree_dist(graph)"
   ]
  },
  {
   "cell_type": "code",
   "execution_count": 12,
   "id": "e439376f",
   "metadata": {},
   "outputs": [
    {
     "name": "stderr",
     "output_type": "stream",
     "text": [
      "Values less than or equal to 0 in data. Throwing out 0 or negative values\n",
      "Calculating best minimal value for power law fit\n",
      "/opt/miniconda3/lib/python3.9/site-packages/powerlaw.py:699: RuntimeWarning: invalid value encountered in true_divide\n",
      "  (CDF_diff**2) /\n"
     ]
    },
    {
     "name": "stdout",
     "output_type": "stream",
     "text": [
      "-------------------\n",
      "Power law compared with lognormal: (-1.3800224715833833, 0.3139509935226249)\n",
      "Power law compared with exponential: (40.66105530901663, 0.008631217956483306)\n",
      "Power law compared with lognormal positive: (-1.315819712033119, 0.43806014779742586)\n",
      "Power law compared with stretched exponential: (-1.476805738925889, 0.36557860921379937)\n"
     ]
    },
    {
     "name": "stderr",
     "output_type": "stream",
     "text": [
      "Assuming nested distributions\n"
     ]
    },
    {
     "name": "stdout",
     "output_type": "stream",
     "text": [
      "Power law compard with truncated power law: (-1.8816193169266402, 0.052391009976793246)\n",
      "-------------------\n"
     ]
    }
   ],
   "source": [
    "def plot_power_law(graph):\n",
    "    \"\"\" \n",
    "    Compare a power law distribution of node in-degrees to lognormal, exponential, lognormal positive, stretched exponential, and truncated power law       \n",
    "\n",
    "    Parameters\n",
    "    ----------\n",
    "    graph : a NetworkX directed graph\n",
    "        \n",
    "    Notes\n",
    "    -----\n",
    "    See comment by Aaron Clauset in the thread:\n",
    "    https://stackoverflow.com/questions/49266070/comparing-power-law-with-other-distributions\n",
    "\n",
    "    \"\"\"\n",
    "    data = [graph.in_degree(n) for n in graph.nodes()]\n",
    "    fit = powerlaw.Fit(data)\n",
    "    print(\"-------------------\")\n",
    "    print(\"Power law compared with lognormal: \" + str(fit.distribution_compare('power_law', 'lognormal')))\n",
    "    print(\"Power law compared with exponential: \" + str(fit.distribution_compare('power_law', 'exponential')))\n",
    "    print(\"Power law compared with lognormal positive: \" + str(fit.distribution_compare('power_law', 'lognormal_positive')))\n",
    "    print(\"Power law compared with stretched exponential: \" + str(fit.distribution_compare('power_law', 'stretched_exponential')))\n",
    "    print(\"Power law compard with truncated power law: \" + str(fit.distribution_compare('power_law', 'truncated_power_law')))\n",
    "    print(\"-------------------\")\n",
    "    ''' \n",
    "    print(results.power_law.alpha)\n",
    "    print(results.power_law.xmin)\n",
    "    print(np.isfinite(data).all())\n",
    "    #figPDF = powerlaw.plot_pdf(np.array(data), color='b')\n",
    "    #powerlaw.plot_pdf(np.array(data), linear_bins=True, color='r', ax=figPDF)\n",
    "    #np.seterr(divide='ignore', invalid='ignore')\n",
    "    fit=powerlaw.Fit(np.array(data), discrete=True)\n",
    "    #print(fit.power_law.alpha)\n",
    "    print(fit.distribution_compare('power_law', 'truncated_power_law'))\n",
    "    fit.power_law.plot_pdf( color= 'b',linestyle='--',label='fit ccdf')\n",
    "    # Linear bins?\n",
    "    fit.plot_pdf(color= 'r', linear_bins=True)\n",
    "    # Logarithmic bins?\n",
    "    fit.plot_pdf(color = 'g')\n",
    "    plt.show()\n",
    "    '''\n",
    "plot_power_law(graph)"
   ]
  }
 ],
 "metadata": {
  "kernelspec": {
   "display_name": "Python 3",
   "language": "python",
   "name": "python3"
  },
  "language_info": {
   "codemirror_mode": {
    "name": "ipython",
    "version": 3
   },
   "file_extension": ".py",
   "mimetype": "text/x-python",
   "name": "python",
   "nbconvert_exporter": "python",
   "pygments_lexer": "ipython3",
   "version": "3.9.1"
  }
 },
 "nbformat": 4,
 "nbformat_minor": 5
}
